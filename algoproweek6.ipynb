{
 "cells": [
  {
   "cell_type": "code",
   "execution_count": 7,
   "metadata": {},
   "outputs": [
    {
     "name": "stdout",
     "output_type": "stream",
     "text": [
      "{'gold': 550, 'pouch': ['flint', 'twine', 'gemstone'], 'backpack': ['xylophone', 'bedroll', 'bread loaf'], 'pocket': ['lint', 'seashell', 'strange berry']}\n"
     ]
    }
   ],
   "source": [
    "#Exercise 1\n",
    "inventory = {\n",
    " 'gold' : 500,\n",
    " 'pouch' : ['flint', 'twine', 'gemstone'],\n",
    " 'backpack' : ['xylophone','dagger', 'bedroll','bread loaf']\n",
    "}\n",
    "\n",
    "inventory['pocket']=[]\n",
    "\n",
    "inventory['pocket'] = ['seashell', 'strange berry', 'lint']\n",
    "\n",
    "inventory['pocket'].sort()\n",
    "\n",
    "inventory['backpack'].remove('dagger')\n",
    "\n",
    "inventory['gold'] += 50\n",
    "\n",
    "print (inventory)"
   ]
  },
  {
   "cell_type": "code",
   "execution_count": 12,
   "metadata": {},
   "outputs": [
    {
     "name": "stdout",
     "output_type": "stream",
     "text": [
      "banana \n",
      "price: 4 \n",
      "stock: 5\n",
      "apple \n",
      "price: 2 \n",
      "stock: 10\n",
      "orange \n",
      "price: 1.5 \n",
      "stock: 7\n",
      "pear \n",
      "price: 3 \n",
      "stock: 4\n",
      "62.5\n"
     ]
    }
   ],
   "source": [
    "#Exercise 2\n",
    "prices= { \"banana\": 4,\n",
    "\"apple\": 2,\n",
    "\"orange\": 1.5,\n",
    "\"pear\": 3}\n",
    "\n",
    "stock ={\"banana\": 5,\n",
    "\"apple\": 10,\n",
    "\"orange\": 7,\n",
    "\"pear\": 4}\n",
    "\n",
    "for i in prices:\n",
    "    print(i, '\\n' \"price:\", prices[i], '\\n' \"stock:\", stock[i])\n",
    "\n",
    "total = 0\n",
    "for i in prices:\n",
    "    value = prices[i]*stock[i]\n",
    "    total = total + value\n",
    "\n",
    "print(total)"
   ]
  },
  {
   "cell_type": "code",
   "execution_count": 32,
   "metadata": {},
   "outputs": [
    {
     "data": {
      "text/plain": [
       "72.0"
      ]
     },
     "execution_count": 32,
     "metadata": {},
     "output_type": "execute_result"
    }
   ],
   "source": [
    "#Exercise 3\n",
    "groceries = [\"banana\",\"orange\",\"apple\"]\n",
    "stock = {\n",
    " \"banana\": 6,\n",
    " \"apple\": 0,\n",
    " \"orange\": 32,\n",
    " \"pear\": 15\n",
    "}\n",
    "prices = {\n",
    " \"banana\": 4,\n",
    " \"apple\": 2,\n",
    " \"orange\": 1.5,\n",
    " \"pear\" : 3\n",
    "}\n",
    "\n",
    "def compute_bill(food):\n",
    "    total = 0\n",
    "    for item in food:\n",
    "        while stock[item] > 0:\n",
    "            total += prices[item]\n",
    "            stock[item] -= 1\n",
    "    return total\n",
    "\n",
    "compute_bill(groceries)"
   ]
  },
  {
   "cell_type": "code",
   "execution_count": 40,
   "metadata": {},
   "outputs": [
    {
     "name": "stdout",
     "output_type": "stream",
     "text": [
      "Eren\n",
      "[90.0, 97.0, 75.0, 92.0]\n",
      "[88.0, 40.0, 94.0]\n",
      "[75.0, 90.0]\n",
      "Mikasa\n",
      "[100.0, 92.0, 98.0, 100.0]\n",
      "[82.0, 83.0, 91.0]\n",
      "[89.0, 97.0]\n",
      "Armin\n",
      "[0.0, 87.0, 75.0, 22.0]\n",
      "[0.0, 75.0, 78.0]\n",
      "[100.0, 100.0]\n",
      "Lloyd's grade = F\n",
      "Class average = 83.83333333333333\n",
      "Class grade = B\n"
     ]
    }
   ],
   "source": [
    "eren = {\n",
    " \"name\":\"Eren\",\n",
    " \"homework\":[],\n",
    " \"quizzes\":[],\n",
    " \"tests\":[]\n",
    "}\n",
    "mikasa = {\n",
    "\"name\":\"Mikasa\",\n",
    "\"homework\":[],\n",
    "\"quizzes\":[],\n",
    "\"tests\":[]\n",
    "}\n",
    "armin = {\n",
    "\"name\":\"Armin\",\n",
    "\"homework\":[],\n",
    "\"quizzes\":[],\n",
    "\"tests\":[]\n",
    "}\n",
    "\n",
    "eren = {\n",
    " \"name\": \"Eren\",\n",
    " \"homework\": [90.0,97.0,75.0,92.0],\n",
    " \"quizzes\": [88.0,40.0,94.0],\n",
    " \"tests\": [75.0,90.0]\n",
    "}\n",
    "mikasa = {\n",
    "\"name\": \"Mikasa\",\n",
    "\"homework\": [100.0, 92.0, 98.0, 100.0],\n",
    "\"quizzes\": [82.0, 83.0, 91.0],\n",
    "\"tests\": [89.0, 97.0]\n",
    "}\n",
    "armin = {\n",
    "\"name\": \"Armin\",\n",
    "\"homework\": [0.0, 87.0, 75.0, 22.0],\n",
    "\"quizzes\": [0.0, 75.0, 78.0],\n",
    "\"tests\": [100.0, 100.0]\n",
    "}\n",
    "\n",
    "students = [eren, mikasa, armin]\n",
    "\n",
    "for data in students:\n",
    "    print(data[\"name\"])\n",
    "    print(data[\"homework\"])\n",
    "    print(data[\"quizzes\"])\n",
    "    print(data[\"tests\"])\n",
    "\n",
    "def average(numbers):\n",
    "    total = float(sum(numbers))\n",
    "    return total/len(numbers)\n",
    "\n",
    "def get_average(student):\n",
    "  homework = average(student['homework'])\n",
    "  quizzes = average(student['quizzes'])\n",
    "  tests = average(student['tests'])\n",
    "  avg = homework*0.1 + quizzes*0.3 + tests*0.6\n",
    "  avg = round(avg,1)\n",
    "  return avg\n",
    "\n",
    "def get_letter_grade(score):\n",
    "    if score >= 90:\n",
    "        return \"A\"\n",
    "    elif score >= 80:\n",
    "        return \"B\"\n",
    "    elif score >= 70:\n",
    "        return \"C\"\n",
    "    elif score >= 60:\n",
    "        return \"D\"\n",
    "    else:\n",
    "        return \"F\"\n",
    "\n",
    "Lloyd = {\n",
    "\"name\": \"Lloyd\",\n",
    "\"homework\": [60.0, 60.0, 60.0, 59.0],\n",
    "\"quizzes\": [23.0, 20.0, 1.0],\n",
    "\"tests\": [32.0, 4.0]\n",
    "}\n",
    "print(\"Lloyd's grade =\", get_letter_grade(get_average(Lloyd)))\n",
    "\n",
    "def get_class_average(students):\n",
    "    results = []\n",
    "    for i in students:\n",
    "        results.append(get_average(i))\n",
    "    return average(results)\n",
    "print(\"Class average =\",get_class_average(students))\n",
    "print(\"Class grade =\",get_letter_grade(get_class_average(students)))"
   ]
  }
 ],
 "metadata": {
  "kernelspec": {
   "display_name": "Python 3.10.7 64-bit",
   "language": "python",
   "name": "python3"
  },
  "language_info": {
   "codemirror_mode": {
    "name": "ipython",
    "version": 3
   },
   "file_extension": ".py",
   "mimetype": "text/x-python",
   "name": "python",
   "nbconvert_exporter": "python",
   "pygments_lexer": "ipython3",
   "version": "3.10.7"
  },
  "orig_nbformat": 4,
  "vscode": {
   "interpreter": {
    "hash": "6f5b53ea504ebfa04f8fb7433339a268f74c2ccc58003020fc3ce3105a10d9ba"
   }
  }
 },
 "nbformat": 4,
 "nbformat_minor": 2
}
