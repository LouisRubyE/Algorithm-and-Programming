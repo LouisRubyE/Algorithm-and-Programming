{
 "cells": [
  {
   "cell_type": "code",
   "execution_count": 3,
   "metadata": {},
   "outputs": [
    {
     "name": "stdout",
     "output_type": "stream",
     "text": [
      "The area of the circle is :3218.285714285714cm**2\n"
     ]
    }
   ],
   "source": [
    "a = eval(input(\"Enter the radius of a circle: \"))\n",
    "b = (22/7)*(a**2)\n",
    "print(f'The area of the circle is :{b}cm**2')"
   ]
  },
  {
   "cell_type": "code",
   "execution_count": 5,
   "metadata": {},
   "outputs": [
    {
     "name": "stdout",
     "output_type": "stream",
     "text": [
      "orange rex\n"
     ]
    }
   ],
   "source": [
    "a = input(\"First name : \")\n",
    "b = input(\"Last name: \")\n",
    "print(f'{b} {a}')"
   ]
  },
  {
   "cell_type": "code",
   "execution_count": 6,
   "metadata": {},
   "outputs": [
    {
     "name": "stdout",
     "output_type": "stream",
     "text": [
      "Red\n",
      "Black\n"
     ]
    }
   ],
   "source": [
    "color_list=[\"Red\",\"Green\",\"White\",\"Black\"]\n",
    "print(color_list[0])\n",
    "print(color_list[-1])"
   ]
  },
  {
   "cell_type": "code",
   "execution_count": 7,
   "metadata": {},
   "outputs": [
    {
     "name": "stdout",
     "output_type": "stream",
     "text": [
      "14\n"
     ]
    }
   ],
   "source": [
    "n= int(input(\"Enter an integer: \"))\n",
    "print(n+n**2+n**3)"
   ]
  },
  {
   "cell_type": "code",
   "execution_count": 8,
   "metadata": {},
   "outputs": [
    {
     "name": "stdout",
     "output_type": "stream",
     "text": [
      "904.7786842338603\n"
     ]
    }
   ],
   "source": [
    "from cmath import pi\n",
    "r = 6\n",
    "v = (4/3)*(pi)*(r**3)\n",
    "print(v)"
   ]
  },
  {
   "cell_type": "code",
   "execution_count": 9,
   "metadata": {},
   "outputs": [
    {
     "name": "stdout",
     "output_type": "stream",
     "text": [
      "2\n"
     ]
    }
   ],
   "source": [
    "a = eval(input(\"Enter a number: \"))\n",
    "if a<17:\n",
    "     print(17-a)\n",
    "else:\n",
    "   print((a-17)*2)"
   ]
  },
  {
   "cell_type": "code",
   "execution_count": 10,
   "metadata": {},
   "outputs": [
    {
     "name": "stdout",
     "output_type": "stream",
     "text": [
      "30\n"
     ]
    }
   ],
   "source": [
    "a = eval(input(\"Enter a number: \"))\n",
    "b = eval(input(\"Enter a number: \"))\n",
    "c = eval(input(\"Enter a number: \"))\n",
    "if a==b==c:\n",
    "    print((a+b+c)*3)\n",
    "else:\n",
    "    print(a+b+c)"
   ]
  },
  {
   "cell_type": "code",
   "execution_count": 11,
   "metadata": {},
   "outputs": [
    {
     "name": "stdout",
     "output_type": "stream",
     "text": [
      "23 is an odd number\n"
     ]
    }
   ],
   "source": [
    "a = int(input(\"Enter a number: \"))\n",
    "if a%2==0:\n",
    "    print(f'{a} is an even number')\n",
    "else:\n",
    "    print(f'{a} is an odd number')"
   ]
  },
  {
   "cell_type": "code",
   "execution_count": 12,
   "metadata": {},
   "outputs": [
    {
     "name": "stdout",
     "output_type": "stream",
     "text": [
      "f is not a vowel\n"
     ]
    }
   ],
   "source": [
    "a = str(input(\"Enter an alphabet: \"))\n",
    "v = [\"a\",\"e\",\"i\",\"o\",\"u\",\"A\",\"E\",\"I\",\"O\",\"U\"]\n",
    "if a in v:\n",
    "    print(f'{a} is a vowel')\n",
    "else:\n",
    "    print(f'{a} is not a vowel')"
   ]
  },
  {
   "cell_type": "code",
   "execution_count": 13,
   "metadata": {},
   "outputs": [
    {
     "name": "stdout",
     "output_type": "stream",
     "text": [
      "aaaa is not in the group of values \n"
     ]
    }
   ],
   "source": [
    "a = [\"a\",\"28\",\"hij\",\"kul\",\"45\"]\n",
    "b = input(\"Enter anything: \")\n",
    "if b in a:\n",
    "    print(f'{b} is in the group of values')\n",
    "else:\n",
    "    print(f'{b} is not in the group of values ')"
   ]
  },
  {
   "cell_type": "code",
   "execution_count": 15,
   "metadata": {},
   "outputs": [
    {
     "name": "stdout",
     "output_type": "stream",
     "text": [
      "*****\n",
      "***\n",
      "****\n",
      "******\n",
      "*******\n"
     ]
    }
   ],
   "source": [
    "def histogram(items):\n",
    "    for x in items:\n",
    "        output = ''\n",
    "        times = x\n",
    "        while( times > 0 ):\n",
    "          output += '*'\n",
    "          times = times - 1\n",
    "        print(output)\n",
    "histogram([5,3,4,6,7])"
   ]
  },
  {
   "cell_type": "code",
   "execution_count": 16,
   "metadata": {},
   "outputs": [
    {
     "name": "stdout",
     "output_type": "stream",
     "text": [
      "386\n",
      "462\n",
      "418\n",
      "344\n",
      "236\n",
      "566\n",
      "978\n",
      "328\n",
      "162\n",
      "758\n",
      "918\n",
      "412\n",
      "566\n",
      "826\n",
      "248\n",
      "866\n",
      "950\n",
      "626\n",
      "104\n",
      "58\n",
      "512\n",
      "24\n",
      "892\n",
      "894\n",
      "742\n",
      "958\n"
     ]
    }
   ],
   "source": [
    "numbers = [386, 462, 47, 418, 907, 344, 236, 375, 823, 566, 597, 978, 328, 615, 953, 345, \n",
    " 399, 162, 758, 219, 918, 237, 412, 566, 826, 248, 866, 950, 626, 949, 687, 217, \n",
    " 815, 67, 104, 58, 512, 24, 892, 894, 767, 553, 81, 379, 843, 831, 445, 742, 717, \n",
    " 958,743, 527]\n",
    "for i in numbers:\n",
    "    if i%2==0:\n",
    "        print(i)"
   ]
  },
  {
   "cell_type": "code",
   "execution_count": 17,
   "metadata": {},
   "outputs": [
    {
     "name": "stdout",
     "output_type": "stream",
     "text": [
      "The area of the triangle is 24.0 cm**2\n"
     ]
    }
   ],
   "source": [
    "base = eval(input(\"Enter the base of triangle: \"))\n",
    "height = eval(input(\"Enter the height of triangle: \"))\n",
    "area = 0.5*base*height\n",
    "print(f'The area of the triangle is {area} cm**2')"
   ]
  },
  {
   "cell_type": "code",
   "execution_count": 18,
   "metadata": {},
   "outputs": [
    {
     "name": "stdout",
     "output_type": "stream",
     "text": [
      "20\n"
     ]
    }
   ],
   "source": [
    "fInt = int(input(\"First integer:\"))\n",
    "sInt = int(input(\"Second integer:\"))\n",
    "\n",
    "def lcm(x, y):\n",
    "  if x > y:\n",
    "      z = x\n",
    "  else:\n",
    "      z = y\n",
    "  while(True):\n",
    "      if((z % x == 0) and (z % y == 0)):\n",
    "          lcm = z\n",
    "          break\n",
    "      z += 1\n",
    "  return lcm\n",
    "print(lcm(fInt,sInt))"
   ]
  },
  {
   "cell_type": "code",
   "execution_count": 19,
   "metadata": {},
   "outputs": [
    {
     "name": "stdout",
     "output_type": "stream",
     "text": [
      "sum is 0\n"
     ]
    }
   ],
   "source": [
    "a = int(input(\"Enter an integer: \"))\n",
    "b = int(input(\"Enter an integer: \"))\n",
    "c = int(input(\"Enter an integer: \"))\n",
    "d = a+b+c\n",
    "if a==b or b==c or a==c:\n",
    "    print(f'sum is 0')\n",
    "else:\n",
    "    print(f'sum is {d}')"
   ]
  },
  {
   "cell_type": "code",
   "execution_count": 20,
   "metadata": {},
   "outputs": [
    {
     "name": "stdout",
     "output_type": "stream",
     "text": [
      "49\n"
     ]
    }
   ],
   "source": [
    "a=eval(input(\"x : \"))\n",
    "b=eval(input(\"y : \"))\n",
    "c = (a+b)**2\n",
    "print(c)"
   ]
  },
  {
   "cell_type": "code",
   "execution_count": 21,
   "metadata": {},
   "outputs": [
    {
     "name": "stdout",
     "output_type": "stream",
     "text": [
      "2450.0000000000005\n"
     ]
    }
   ],
   "source": [
    "a = eval(input(\"Amount: \"))\n",
    "b = eval(input(\"Rate of interest: \"))\n",
    "c = int(input(\"Number of years: \"))\n",
    "d = a*(b/100)*c\n",
    "print(a+d)"
   ]
  },
  {
   "cell_type": "code",
   "execution_count": 22,
   "metadata": {},
   "outputs": [
    {
     "name": "stdout",
     "output_type": "stream",
     "text": [
      "1,1\n"
     ]
    }
   ],
   "source": [
    "a = eval(input(\"Enter x1:\"))\n",
    "b = eval(input(\"Enter x2: \"))\n",
    "c = eval(input(\"Enter y1: \"))\n",
    "d = eval(input(\"Enter y2: \"))\n",
    "distancex=abs(a-b)\n",
    "distancey=abs(c-d)\n",
    "print(f'{distancex},{distancey}')"
   ]
  },
  {
   "cell_type": "code",
   "execution_count": 24,
   "metadata": {},
   "outputs": [
    {
     "name": "stdout",
     "output_type": "stream",
     "text": [
      "Sum of the first 5 positive integers:15.0 \n"
     ]
    }
   ],
   "source": [
    "a= int(input(\"Enter an integer:\"))\n",
    "b= (a * (a+ 1)) / 2\n",
    "print(f\"Sum of the first {a} positive integers:{b} \")"
   ]
  },
  {
   "cell_type": "code",
   "execution_count": 25,
   "metadata": {},
   "outputs": [
    {
     "name": "stdout",
     "output_type": "stream",
     "text": [
      "200.78 cm\n"
     ]
    }
   ],
   "source": [
    "feet = eval(input(\"Input height in feet:\"))\n",
    "inches = eval(input(\"Input height in inches:\"))\n",
    "feet = feet*30.5\n",
    "inches = inches*2.54\n",
    "centimeter = feet + inches\n",
    "print(centimeter,\"cm\")"
   ]
  },
  {
   "cell_type": "code",
   "execution_count": 26,
   "metadata": {},
   "outputs": [
    {
     "name": "stdout",
     "output_type": "stream",
     "text": [
      "Lenght of the hypotenuse is 10.0 cm\n"
     ]
    }
   ],
   "source": [
    "from math import sqrt\n",
    "a = eval(input(\"Enter lenght of side: \"))\n",
    "b = eval(input('Enter lenght of opposite: '))\n",
    "c = a*a+b*b\n",
    "d= sqrt(c)\n",
    "print(f'Lenght of the hypotenuse is {d} cm')"
   ]
  },
  {
   "cell_type": "code",
   "execution_count": 27,
   "metadata": {},
   "outputs": [
    {
     "name": "stdout",
     "output_type": "stream",
     "text": [
      "Your body mass index is 17.36111\n"
     ]
    }
   ],
   "source": [
    "a = float(input(\"Input your weight (Kg):\"))\n",
    "b = float(input(\"Input your height (M):\"))\n",
    "bmi = a/(b**2)\n",
    "print(f\"Your body mass index is {round(bmi,5)}\")"
   ]
  },
  {
   "cell_type": "code",
   "execution_count": 28,
   "metadata": {},
   "outputs": [
    {
     "name": "stdout",
     "output_type": "stream",
     "text": [
      "The midpoint is 6.0,7.0\n"
     ]
    }
   ],
   "source": [
    "x1 = eval(input(\"input x1:\"))\n",
    "y1 =eval(input(\"input y1:\"))\n",
    "x2 = eval(input(\"input x2:\"))\n",
    "y2 = eval(input(\"input y2:\"))\n",
    "midpX = (x1+x2)/2 \n",
    "midpY = (y1+y2)/2\n",
    "print(f\"The midpoint is {midpX},{midpY}\")"
   ]
  },
  {
   "cell_type": "code",
   "execution_count": 29,
   "metadata": {},
   "outputs": [
    {
     "name": "stdout",
     "output_type": "stream",
     "text": [
      "[2002, 2009, 2016, 2023, 2037, 2044, 2051, 2058, 2072, 2079, 2086, 2093, 2107, 2114, 2121, 2128, 2142, 2149, 2156, 2163, 2177, 2184, 2191, 2198, 2212, 2219, 2226, 2233, 2247, 2254, 2261, 2268, 2282, 2289, 2296, 2303, 2317, 2324, 2331, 2338, 2352, 2359, 2366, 2373, 2387, 2394, 2401, 2408, 2422, 2429, 2436, 2443, 2457, 2464, 2471, 2478, 2492, 2499, 2506, 2513, 2527, 2534, 2541, 2548, 2562, 2569, 2576, 2583, 2597, 2604, 2611, 2618, 2632, 2639, 2646, 2653, 2667, 2674, 2681, 2688, 2702, 2709, 2716, 2723, 2737, 2744, 2751, 2758, 2772, 2779, 2786, 2793, 2807, 2814, 2821, 2828, 2842, 2849, 2856, 2863, 2877, 2884, 2891, 2898, 2912, 2919, 2926, 2933, 2947, 2954, 2961, 2968, 2982, 2989, 2996, 3003, 3017, 3024, 3031, 3038, 3052, 3059, 3066, 3073, 3087, 3094, 3101, 3108, 3122, 3129, 3136, 3143, 3157, 3164, 3171, 3178, 3192, 3199]\n"
     ]
    }
   ],
   "source": [
    "a =[]\n",
    "for i in range (2000,3200):\n",
    "    if i % 7 == 0 and i % 5 != 0:\n",
    "        a.append(i)\n",
    "print(a)"
   ]
  }
 ],
 "metadata": {
  "kernelspec": {
   "display_name": "Python 3.10.7 64-bit",
   "language": "python",
   "name": "python3"
  },
  "language_info": {
   "codemirror_mode": {
    "name": "ipython",
    "version": 3
   },
   "file_extension": ".py",
   "mimetype": "text/x-python",
   "name": "python",
   "nbconvert_exporter": "python",
   "pygments_lexer": "ipython3",
   "version": "3.10.7"
  },
  "orig_nbformat": 4,
  "vscode": {
   "interpreter": {
    "hash": "6f5b53ea504ebfa04f8fb7433339a268f74c2ccc58003020fc3ce3105a10d9ba"
   }
  }
 },
 "nbformat": 4,
 "nbformat_minor": 2
}
